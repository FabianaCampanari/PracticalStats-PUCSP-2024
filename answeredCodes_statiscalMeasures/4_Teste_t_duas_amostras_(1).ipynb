{
  "cells": [
    {
      "cell_type": "markdown",
      "id": "304fc7a8",
      "metadata": {},
      "source": [
        "# Teste a hipótese de a renda ser igual para os dois estados civis. Qual sua conclusão?"
      ]
    },
    {
      "cell_type": "code",
      "execution_count": 123,
      "id": "1ab6c2e7",
      "metadata": {
        "id": "1ab6c2e7"
      },
      "outputs": [],
      "source": [
        "# importa biblioteca pandas\n",
        "import pandas as pd\n",
        "\n",
        "\n",
        "# importa biblioteca scipy\n",
        "import scipy.stats as stats\n"
      ]
    },
    {
      "cell_type": "code",
      "execution_count": 124,
      "id": "99afeb27",
      "metadata": {
        "id": "99afeb27"
      },
      "outputs": [],
      "source": [
        "# local do arquivo\n",
        "Caminho = '/Users/fabicampanari/Desktop/_8-Prova Matematematica/1-statiscalMeasures_ Hypothesis Testing II./answeredCodes_statiscalMeasures/cadastro_funcionarios.xlsx'\n"
      ]
    },
    {
      "cell_type": "code",
      "execution_count": 125,
      "id": "3c5e3acd",
      "metadata": {
        "id": "3c5e3acd"
      },
      "outputs": [],
      "source": [
        "#Traz o arquivo para o Python\n",
        "df=pd.read_excel(Caminho)\n"
      ]
    },
    {
      "cell_type": "code",
      "execution_count": 126,
      "id": "ab4cfbff",
      "metadata": {
        "colab": {
          "base_uri": "https://localhost:8080/",
          "height": 206
        },
        "id": "ab4cfbff",
        "outputId": "84eb3024-0266-4304-93f4-86c413143163"
      },
      "outputs": [
        {
          "data": {
            "text/html": [
              "<div>\n",
              "<style scoped>\n",
              "    .dataframe tbody tr th:only-of-type {\n",
              "        vertical-align: middle;\n",
              "    }\n",
              "\n",
              "    .dataframe tbody tr th {\n",
              "        vertical-align: top;\n",
              "    }\n",
              "\n",
              "    .dataframe thead th {\n",
              "        text-align: right;\n",
              "    }\n",
              "</style>\n",
              "<table border=\"1\" class=\"dataframe\">\n",
              "  <thead>\n",
              "    <tr style=\"text-align: right;\">\n",
              "      <th></th>\n",
              "      <th>ID</th>\n",
              "      <th>estado_civil</th>\n",
              "      <th>grau_instrucao</th>\n",
              "      <th>n_filhos</th>\n",
              "      <th>salario</th>\n",
              "      <th>idade</th>\n",
              "      <th>reg_proc</th>\n",
              "    </tr>\n",
              "  </thead>\n",
              "  <tbody>\n",
              "    <tr>\n",
              "      <th>0</th>\n",
              "      <td>1</td>\n",
              "      <td>s</td>\n",
              "      <td>f</td>\n",
              "      <td>0</td>\n",
              "      <td>4.00</td>\n",
              "      <td>26</td>\n",
              "      <td>int</td>\n",
              "    </tr>\n",
              "    <tr>\n",
              "      <th>1</th>\n",
              "      <td>2</td>\n",
              "      <td>c</td>\n",
              "      <td>f</td>\n",
              "      <td>1</td>\n",
              "      <td>4.56</td>\n",
              "      <td>32</td>\n",
              "      <td>cap</td>\n",
              "    </tr>\n",
              "    <tr>\n",
              "      <th>2</th>\n",
              "      <td>3</td>\n",
              "      <td>c</td>\n",
              "      <td>f</td>\n",
              "      <td>2</td>\n",
              "      <td>5.25</td>\n",
              "      <td>36</td>\n",
              "      <td>cap</td>\n",
              "    </tr>\n",
              "    <tr>\n",
              "      <th>3</th>\n",
              "      <td>4</td>\n",
              "      <td>s</td>\n",
              "      <td>m</td>\n",
              "      <td>0</td>\n",
              "      <td>5.73</td>\n",
              "      <td>20</td>\n",
              "      <td>out</td>\n",
              "    </tr>\n",
              "    <tr>\n",
              "      <th>4</th>\n",
              "      <td>5</td>\n",
              "      <td>s</td>\n",
              "      <td>f</td>\n",
              "      <td>0</td>\n",
              "      <td>6.26</td>\n",
              "      <td>40</td>\n",
              "      <td>out</td>\n",
              "    </tr>\n",
              "  </tbody>\n",
              "</table>\n",
              "</div>"
            ],
            "text/plain": [
              "   ID estado_civil grau_instrucao  n_filhos  salario  idade reg_proc\n",
              "0   1            s              f         0     4.00     26      int\n",
              "1   2            c              f         1     4.56     32      cap\n",
              "2   3            c              f         2     5.25     36      cap\n",
              "3   4            s              m         0     5.73     20      out\n",
              "4   5            s              f         0     6.26     40      out"
            ]
          },
          "execution_count": 126,
          "metadata": {},
          "output_type": "execute_result"
        }
      ],
      "source": [
        "df.head( )"
      ]
    },
    {
      "cell_type": "code",
      "execution_count": 127,
      "id": "30be05e7",
      "metadata": {
        "colab": {
          "base_uri": "https://localhost:8080/",
          "height": 143
        },
        "id": "30be05e7",
        "outputId": "0b2c7e9c-7853-4e5c-c554-c2e89a7f0816"
      },
      "outputs": [
        {
          "data": {
            "text/html": [
              "<div>\n",
              "<style scoped>\n",
              "    .dataframe tbody tr th:only-of-type {\n",
              "        vertical-align: middle;\n",
              "    }\n",
              "\n",
              "    .dataframe tbody tr th {\n",
              "        vertical-align: top;\n",
              "    }\n",
              "\n",
              "    .dataframe thead th {\n",
              "        text-align: right;\n",
              "    }\n",
              "</style>\n",
              "<table border=\"1\" class=\"dataframe\">\n",
              "  <thead>\n",
              "    <tr style=\"text-align: right;\">\n",
              "      <th></th>\n",
              "      <th>count</th>\n",
              "      <th>mean</th>\n",
              "      <th>std</th>\n",
              "      <th>min</th>\n",
              "      <th>25%</th>\n",
              "      <th>50%</th>\n",
              "      <th>75%</th>\n",
              "      <th>max</th>\n",
              "    </tr>\n",
              "    <tr>\n",
              "      <th>estado_civil</th>\n",
              "      <th></th>\n",
              "      <th></th>\n",
              "      <th></th>\n",
              "      <th></th>\n",
              "      <th></th>\n",
              "      <th></th>\n",
              "      <th></th>\n",
              "      <th></th>\n",
              "    </tr>\n",
              "  </thead>\n",
              "  <tbody>\n",
              "    <tr>\n",
              "      <th>c</th>\n",
              "      <td>244.0</td>\n",
              "      <td>35.094262</td>\n",
              "      <td>5.761670</td>\n",
              "      <td>25.0</td>\n",
              "      <td>31.0</td>\n",
              "      <td>35.0</td>\n",
              "      <td>39.0</td>\n",
              "      <td>49.0</td>\n",
              "    </tr>\n",
              "    <tr>\n",
              "      <th>s</th>\n",
              "      <td>182.0</td>\n",
              "      <td>33.989011</td>\n",
              "      <td>7.130968</td>\n",
              "      <td>20.0</td>\n",
              "      <td>27.0</td>\n",
              "      <td>34.0</td>\n",
              "      <td>41.0</td>\n",
              "      <td>46.0</td>\n",
              "    </tr>\n",
              "  </tbody>\n",
              "</table>\n",
              "</div>"
            ],
            "text/plain": [
              "              count       mean       std   min   25%   50%   75%   max\n",
              "estado_civil                                                          \n",
              "c             244.0  35.094262  5.761670  25.0  31.0  35.0  39.0  49.0\n",
              "s             182.0  33.989011  7.130968  20.0  27.0  34.0  41.0  46.0"
            ]
          },
          "execution_count": 127,
          "metadata": {},
          "output_type": "execute_result"
        }
      ],
      "source": [
        "#Verifica a média de idade por grupo\n",
        "df.groupby(['estado_civil'])['idade'].describe()\n"
      ]
    },
    {
      "cell_type": "code",
      "execution_count": 128,
      "id": "d824c68a",
      "metadata": {
        "id": "d824c68a"
      },
      "outputs": [],
      "source": [
        "solteiro=df[df.estado_civil=='s'].idade\n",
        "casado=df[df.estado_civil=='c'].idade\n"
      ]
    },
    {
      "cell_type": "code",
      "execution_count": 129,
      "id": "1ff7d184-0a36-456b-a131-8f0c62cb5530",
      "metadata": {
        "colab": {
          "base_uri": "https://localhost:8080/"
        },
        "id": "1ff7d184-0a36-456b-a131-8f0c62cb5530",
        "outputId": "6507d966-30b2-46e7-94dd-d87203a7abdd"
      },
      "outputs": [
        {
          "data": {
            "text/plain": [
              "LeveneResult(statistic=15.882848929731193, pvalue=7.932664725672226e-05)"
            ]
          },
          "execution_count": 129,
          "metadata": {},
          "output_type": "execute_result"
        }
      ],
      "source": [
        "# Executa o teste de Levene para verificar a igualdade das variâncias\n",
        "stats.levene(casado, solteiro)"
      ]
    },
    {
      "cell_type": "code",
      "execution_count": 130,
      "id": "feac51b0",
      "metadata": {
        "colab": {
          "base_uri": "https://localhost:8080/"
        },
        "id": "feac51b0",
        "outputId": "17a2d85c-b6db-475e-88b3-e4a13cf24220"
      },
      "outputs": [
        {
          "data": {
            "text/plain": [
              "TtestResult(statistic=1.7147489742062125, pvalue=0.08730214339336337, df=340.12128870439)"
            ]
          },
          "execution_count": 130,
          "metadata": {},
          "output_type": "execute_result"
        }
      ],
      "source": [
        "# executa o teste t Testando H0: μc= μs   H1: μc ≠ μs\n",
        "stats.ttest_ind(casado,solteiro,equal_var=False)\n",
        "# PARA 95% DE CONFIANÇA REJEITO H0 SE PVALUE < 0.05"
      ]
    },
    {
      "cell_type": "code",
      "execution_count": 131,
      "id": "-b4TerYKZXaf",
      "metadata": {
        "id": "-b4TerYKZXaf"
      },
      "outputs": [],
      "source": [
        "#pvalue = 0,087 maoir que 0,05 aceito a hipotese de igualdade"
      ]
    },
    {
      "cell_type": "code",
      "execution_count": 132,
      "id": "j_KtZ2EOaFeH",
      "metadata": {
        "colab": {
          "base_uri": "https://localhost:8080/",
          "height": 143
        },
        "id": "j_KtZ2EOaFeH",
        "outputId": "a34c5341-24c5-462c-ebbd-e81b005aada2"
      },
      "outputs": [
        {
          "data": {
            "text/html": [
              "<div>\n",
              "<style scoped>\n",
              "    .dataframe tbody tr th:only-of-type {\n",
              "        vertical-align: middle;\n",
              "    }\n",
              "\n",
              "    .dataframe tbody tr th {\n",
              "        vertical-align: top;\n",
              "    }\n",
              "\n",
              "    .dataframe thead th {\n",
              "        text-align: right;\n",
              "    }\n",
              "</style>\n",
              "<table border=\"1\" class=\"dataframe\">\n",
              "  <thead>\n",
              "    <tr style=\"text-align: right;\">\n",
              "      <th></th>\n",
              "      <th>count</th>\n",
              "      <th>mean</th>\n",
              "      <th>std</th>\n",
              "      <th>min</th>\n",
              "      <th>25%</th>\n",
              "      <th>50%</th>\n",
              "      <th>75%</th>\n",
              "      <th>max</th>\n",
              "    </tr>\n",
              "    <tr>\n",
              "      <th>estado_civil</th>\n",
              "      <th></th>\n",
              "      <th></th>\n",
              "      <th></th>\n",
              "      <th></th>\n",
              "      <th></th>\n",
              "      <th></th>\n",
              "      <th></th>\n",
              "      <th></th>\n",
              "    </tr>\n",
              "  </thead>\n",
              "  <tbody>\n",
              "    <tr>\n",
              "      <th>c</th>\n",
              "      <td>244.0</td>\n",
              "      <td>11.854303</td>\n",
              "      <td>4.340324</td>\n",
              "      <td>4.0</td>\n",
              "      <td>8.49</td>\n",
              "      <td>11.14</td>\n",
              "      <td>14.71</td>\n",
              "      <td>23.9</td>\n",
              "    </tr>\n",
              "    <tr>\n",
              "      <th>s</th>\n",
              "      <td>182.0</td>\n",
              "      <td>10.043462</td>\n",
              "      <td>3.815224</td>\n",
              "      <td>4.0</td>\n",
              "      <td>7.24</td>\n",
              "      <td>9.20</td>\n",
              "      <td>11.79</td>\n",
              "      <td>18.9</td>\n",
              "    </tr>\n",
              "  </tbody>\n",
              "</table>\n",
              "</div>"
            ],
            "text/plain": [
              "              count       mean       std  min   25%    50%    75%   max\n",
              "estado_civil                                                           \n",
              "c             244.0  11.854303  4.340324  4.0  8.49  11.14  14.71  23.9\n",
              "s             182.0  10.043462  3.815224  4.0  7.24   9.20  11.79  18.9"
            ]
          },
          "execution_count": 132,
          "metadata": {},
          "output_type": "execute_result"
        }
      ],
      "source": [
        "df.groupby(['estado_civil'])['salario'].describe()"
      ]
    },
    {
      "cell_type": "code",
      "execution_count": 133,
      "id": "Xcq6_TowaQdf",
      "metadata": {
        "id": "Xcq6_TowaQdf"
      },
      "outputs": [],
      "source": [
        "solteiro=df[df.estado_civil=='s'].salario\n",
        "casado=df[df.estado_civil=='c'].salario\n"
      ]
    },
    {
      "cell_type": "code",
      "execution_count": 134,
      "id": "otGrIBQladwI",
      "metadata": {
        "colab": {
          "base_uri": "https://localhost:8080/"
        },
        "id": "otGrIBQladwI",
        "outputId": "961853aa-79a3-449c-e493-8ed50cd36a42"
      },
      "outputs": [
        {
          "data": {
            "text/plain": [
              "TtestResult(statistic=4.567472731259726, pvalue=6.527014259249644e-06, df=412.678015786978)"
            ]
          },
          "execution_count": 134,
          "metadata": {},
          "output_type": "execute_result"
        }
      ],
      "source": [
        "# executa o teste t Testando H0: μc= μs   H1: μc ≠ μs\n",
        "stats.ttest_ind(casado,solteiro,equal_var=False)\n",
        "# PARA 95% DE CONFIANÇA REJEITO H0 SE PVALUE < 0.05\n",
        "#rejeitado"
      ]
    },
    {
      "cell_type": "markdown",
      "id": "5cb8943a",
      "metadata": {},
      "source": [
        "# ADICIONAL"
      ]
    },
    {
      "cell_type": "markdown",
      "id": "ae96ccd5",
      "metadata": {},
      "source": [
        "## Para testar a hipótese de que a renda é igual para os dois estados civis (solteiro e casado), podemos usar o teste t para duas amostras independentes. Vamos seguir os seguintes passos:\n",
        "\n",
        "### 1- Extrair os dados de renda para solteiros e casados.\n",
        "### 2- Realizar o teste t para duas amostras independentes.\n",
        "### 3- Interpretar o valor p para aceitar ou rejeitar a hipótese nula.\n",
        "\n",
        "## Passos em pseudocódigo:\n",
        "\n",
        "### 1- Importar bibliotecas necessárias (pandas e scipy.stats).\n",
        "### 2- Carregar os dados do arquivo Excel.\n",
        "### 3- Extrair as colunas de renda para solteiros e casados.\n",
        "### 4- Realizar o teste t para duas amostras independentes.\n",
        "### 5- Interpretar o resultado com base no valor p.\n",
        "\n"
      ]
    },
    {
      "cell_type": "code",
      "execution_count": 135,
      "id": "4cbecbf1",
      "metadata": {},
      "outputs": [
        {
          "name": "stdout",
          "output_type": "stream",
          "text": [
            "Rejeitamos a hipótese nula. As rendas são diferentes para os dois estados civis.\n"
          ]
        }
      ],
      "source": [
        "import pandas as pd\n",
        "from scipy import stats\n",
        "\n",
        "# Carregar os dados do arquivo Excel\n",
        "Caminho = '/Users/fabicampanari/Desktop/_8-Prova Matematematica/1-statiscalMeasures_ Hypothesis Testing II./answeredCodes_statiscalMeasures/cadastro_funcionarios.xlsx'\n",
        "df = pd.read_excel(Caminho)\n",
        "\n",
        "# Extrair as colunas de renda para solteiros e casados\n",
        "solteiro = df[df['estado_civil'] == 's']['salario']\n",
        "casado = df[df['estado_civil'] == 'c']['salario']\n",
        "\n",
        "# Realizar o teste t para duas amostras independentes\n",
        "t_stat, p_value = stats.ttest_ind(casado, solteiro, equal_var=False)\n",
        "\n",
        "# Interpretar o resultado\n",
        "alpha = 0.05\n",
        "if p_value < alpha:\n",
        "    print(\"Rejeitamos a hipótese nula. As rendas são diferentes para os dois estados civis.\")\n",
        "else:\n",
        "    print(\"Não rejeitamos a hipótese nula. As rendas são iguais para os dois estados civis.\")"
      ]
    },
    {
      "cell_type": "markdown",
      "id": "96a67802",
      "metadata": {},
      "source": [
        "## Conclusão:\n",
        "\n",
        "### -Se o valor p for menor que 0.05, rejeitamos a hipótese nula e concluímos que as rendas são diferentes para os dois estados civis.\n",
        "\n",
        "### - Se o valor p for maior ou igual a 0.05, não rejeitamos a hipótese nula e concluímos que as rendas são iguais para os dois estados civis."
      ]
    }
  ],
  "metadata": {
    "colab": {
      "provenance": []
    },
    "kernelspec": {
      "display_name": "myenv",
      "language": "python",
      "name": "python3"
    },
    "language_info": {
      "codemirror_mode": {
        "name": "ipython",
        "version": 3
      },
      "file_extension": ".py",
      "mimetype": "text/x-python",
      "name": "python",
      "nbconvert_exporter": "python",
      "pygments_lexer": "ipython3",
      "version": "3.12.6"
    }
  },
  "nbformat": 4,
  "nbformat_minor": 5
}
