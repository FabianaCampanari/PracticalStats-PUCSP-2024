{
  "cells": [
    {
      "cell_type": "markdown",
      "id": "554e9b0d",
      "metadata": {},
      "source": [
        "# Exercício 3– Teste a hipótese do salário ser igual a 12. Qual sua conclusão?"
      ]
    },
    {
      "cell_type": "code",
      "execution_count": 25,
      "id": "d7400875",
      "metadata": {
        "id": "d7400875"
      },
      "outputs": [],
      "source": [
        "# importa biblioteca pandas\n",
        "import pandas as pd\n",
        "\n",
        "\n",
        "# importa biblioteca scipy\n",
        "import scipy.stats as stats\n"
      ]
    },
    {
      "cell_type": "code",
      "execution_count": 26,
      "id": "15efaf8d",
      "metadata": {
        "id": "15efaf8d"
      },
      "outputs": [],
      "source": [
        "# local do arquivo\n",
        "Caminho='/Users/fabicampanari/Desktop/_8-Prova Matematematica/1-statiscalMeasures_ Hypothesis Testing II./answeredCodes_statiscalMeasures/cadastro_funcionarios.xlsx'\n"
      ]
    },
    {
      "cell_type": "code",
      "execution_count": 27,
      "id": "b560d792",
      "metadata": {
        "id": "b560d792"
      },
      "outputs": [],
      "source": [
        "#Traz o arquivo para o Python\n",
        "df=pd.read_excel(Caminho)\n"
      ]
    },
    {
      "cell_type": "code",
      "execution_count": 28,
      "id": "58867de4",
      "metadata": {
        "id": "58867de4"
      },
      "outputs": [
        {
          "data": {
            "text/html": [
              "<div>\n",
              "<style scoped>\n",
              "    .dataframe tbody tr th:only-of-type {\n",
              "        vertical-align: middle;\n",
              "    }\n",
              "\n",
              "    .dataframe tbody tr th {\n",
              "        vertical-align: top;\n",
              "    }\n",
              "\n",
              "    .dataframe thead th {\n",
              "        text-align: right;\n",
              "    }\n",
              "</style>\n",
              "<table border=\"1\" class=\"dataframe\">\n",
              "  <thead>\n",
              "    <tr style=\"text-align: right;\">\n",
              "      <th></th>\n",
              "      <th>ID</th>\n",
              "      <th>estado_civil</th>\n",
              "      <th>grau_instrucao</th>\n",
              "      <th>n_filhos</th>\n",
              "      <th>salario</th>\n",
              "      <th>idade</th>\n",
              "      <th>reg_proc</th>\n",
              "    </tr>\n",
              "  </thead>\n",
              "  <tbody>\n",
              "    <tr>\n",
              "      <th>0</th>\n",
              "      <td>1</td>\n",
              "      <td>s</td>\n",
              "      <td>f</td>\n",
              "      <td>0</td>\n",
              "      <td>4.00</td>\n",
              "      <td>26</td>\n",
              "      <td>int</td>\n",
              "    </tr>\n",
              "    <tr>\n",
              "      <th>1</th>\n",
              "      <td>2</td>\n",
              "      <td>c</td>\n",
              "      <td>f</td>\n",
              "      <td>1</td>\n",
              "      <td>4.56</td>\n",
              "      <td>32</td>\n",
              "      <td>cap</td>\n",
              "    </tr>\n",
              "    <tr>\n",
              "      <th>2</th>\n",
              "      <td>3</td>\n",
              "      <td>c</td>\n",
              "      <td>f</td>\n",
              "      <td>2</td>\n",
              "      <td>5.25</td>\n",
              "      <td>36</td>\n",
              "      <td>cap</td>\n",
              "    </tr>\n",
              "    <tr>\n",
              "      <th>3</th>\n",
              "      <td>4</td>\n",
              "      <td>s</td>\n",
              "      <td>m</td>\n",
              "      <td>0</td>\n",
              "      <td>5.73</td>\n",
              "      <td>20</td>\n",
              "      <td>out</td>\n",
              "    </tr>\n",
              "    <tr>\n",
              "      <th>4</th>\n",
              "      <td>5</td>\n",
              "      <td>s</td>\n",
              "      <td>f</td>\n",
              "      <td>0</td>\n",
              "      <td>6.26</td>\n",
              "      <td>40</td>\n",
              "      <td>out</td>\n",
              "    </tr>\n",
              "  </tbody>\n",
              "</table>\n",
              "</div>"
            ],
            "text/plain": [
              "   ID estado_civil grau_instrucao  n_filhos  salario  idade reg_proc\n",
              "0   1            s              f         0     4.00     26      int\n",
              "1   2            c              f         1     4.56     32      cap\n",
              "2   3            c              f         2     5.25     36      cap\n",
              "3   4            s              m         0     5.73     20      out\n",
              "4   5            s              f         0     6.26     40      out"
            ]
          },
          "execution_count": 28,
          "metadata": {},
          "output_type": "execute_result"
        }
      ],
      "source": [
        "df.head( )"
      ]
    },
    {
      "cell_type": "code",
      "execution_count": 29,
      "id": "2cfd685a",
      "metadata": {
        "id": "2cfd685a"
      },
      "outputs": [],
      "source": [
        "# trazer apenas a variável idade para executar o teste\n",
        "base_idade=df['idade']\n"
      ]
    },
    {
      "cell_type": "code",
      "execution_count": 30,
      "id": "be0b2198",
      "metadata": {
        "id": "be0b2198"
      },
      "outputs": [
        {
          "data": {
            "text/plain": [
              "TtestResult(statistic=8.458459436515964, pvalue=4.4022567945723766e-16, df=425)"
            ]
          },
          "execution_count": 30,
          "metadata": {},
          "output_type": "execute_result"
        }
      ],
      "source": [
        "# executa o teste t Testando H0: idade= 32 e H1:idade ≠ 32\n",
        "stats.ttest_1samp(base_idade, 32)"
      ]
    },
    {
      "cell_type": "code",
      "execution_count": 31,
      "id": "1b26a025",
      "metadata": {},
      "outputs": [
        {
          "name": "stdout",
          "output_type": "stream",
          "text": [
            "Rejeitamos a hipótese nula (H0).\n"
          ]
        }
      ],
      "source": [
        "p_value = 4.4022567945723766e-16\n",
        "alpha = 0.05\n",
        "\n",
        "if p_value < alpha:\n",
        "    print(\"Rejeitamos a hipótese nula (H0).\")\n",
        "else:\n",
        "    print(\"Não rejeitamos a hipótese nula (H0).\")"
      ]
    },
    {
      "cell_type": "code",
      "execution_count": 32,
      "id": "84897028",
      "metadata": {
        "id": "84897028"
      },
      "outputs": [
        {
          "data": {
            "text/plain": [
              "34.62206572769953"
            ]
          },
          "execution_count": 32,
          "metadata": {},
          "output_type": "execute_result"
        }
      ],
      "source": [
        "#Lembrando a média\n",
        "df.idade.mean()"
      ]
    },
    {
      "cell_type": "code",
      "execution_count": 33,
      "id": "5b1ec17d",
      "metadata": {
        "id": "5b1ec17d"
      },
      "outputs": [
        {
          "data": {
            "text/plain": [
              "TtestResult(statistic=2.0067070283587505, pvalue=0.045413783138037615, df=425)"
            ]
          },
          "execution_count": 33,
          "metadata": {},
          "output_type": "execute_result"
        }
      ],
      "source": [
        "# executa o teste t Testando H0: idade= 34 e H1:idade ≠ 34\n",
        "stats.ttest_1samp(base_idade, 34)\n",
        "# PARA 95% DE CONFIANÇA REJEITO H0 SE PVALUE < 0.05"
      ]
    },
    {
      "cell_type": "markdown",
      "id": "c038bf1e",
      "metadata": {},
      "source": [
        "# Adicional"
      ]
    },
    {
      "cell_type": "code",
      "execution_count": 34,
      "id": "1eaf84bc",
      "metadata": {},
      "outputs": [
        {
          "name": "stdout",
          "output_type": "stream",
          "text": [
            "Rejeitamos a hipótese nula (H0).\n"
          ]
        }
      ],
      "source": [
        "# Definir o nível de significância\n",
        "alpha = 0.05\n",
        "\n",
        "# Valor-p do teste t\n",
        "p_value = 0.045413783138037615\n",
        "\n",
        "# Decidir se rejeitamos ou não a hipótese nula\n",
        "if p_value < alpha:\n",
        "    print(\"Rejeitamos a hipótese nula (H0).\")\n",
        "else:\n",
        "    print(\"Não rejeitamos a hipótese nula (H0).\")"
      ]
    },
    {
      "cell_type": "markdown",
      "id": "cdc92821",
      "metadata": {},
      "source": [
        "## Com um valor-p de 0.045, que é menor que o nível de significância de 0.05, rejeitamos a hipótese nula. Isso indica que há evidências estatisticamente significativas para sugerir que a idade média dos funcionários é diferente de 34."
      ]
    },
    {
      "cell_type": "code",
      "execution_count": 35,
      "id": "08eaf42a",
      "metadata": {
        "id": "08eaf42a"
      },
      "outputs": [
        {
          "data": {
            "text/plain": [
              "TtestResult(statistic=-1.2191691757198562, pvalue=0.22345620342178218, df=425)"
            ]
          },
          "execution_count": 35,
          "metadata": {},
          "output_type": "execute_result"
        }
      ],
      "source": [
        "# executa o teste t Testando H0: idade= 35 e H1:idade ≠ 35\n",
        "stats.ttest_1samp(base_idade, 35)\n",
        "# PARA 95% DE CONFIANÇA REJEITO H0 SE PVALUE < 0.05"
      ]
    },
    {
      "cell_type": "code",
      "execution_count": 36,
      "id": "9f371417",
      "metadata": {},
      "outputs": [
        {
          "name": "stdout",
          "output_type": "stream",
          "text": [
            "Não rejeitamos a hipótese nula (H0).\n"
          ]
        }
      ],
      "source": [
        "# Definir o nível de significância\n",
        "alpha = 0.05\n",
        "\n",
        "# Valor-p do teste t\n",
        "p_value = 0.22345620342178218\n",
        "\n",
        "# Decidir se rejeitamos ou não a hipótese nula\n",
        "if p_value < alpha:\n",
        "    print(\"Rejeitamos a hipótese nula (H0).\")\n",
        "else:\n",
        "    print(\"Não rejeitamos a hipótese nula (H0).\")"
      ]
    },
    {
      "cell_type": "markdown",
      "id": "b1f22bc0",
      "metadata": {},
      "source": [
        "## Com um valor-p de 0.2234, que é maior que o nível de significância de 0.05, não rejeitamos a hipótese nula. Isso significa que não há evidências suficientes para concluir que a idade média dos funcionários é diferente do valor hipotetizado (32, 35 ou qualquer outro valor que estava sendo testado)"
      ]
    },
    {
      "cell_type": "code",
      "execution_count": null,
      "id": "2ccd617a",
      "metadata": {
        "id": "2ccd617a"
      },
      "outputs": [],
      "source": []
    }
  ],
  "metadata": {
    "colab": {
      "provenance": []
    },
    "kernelspec": {
      "display_name": "myenv",
      "language": "python",
      "name": "python3"
    },
    "language_info": {
      "codemirror_mode": {
        "name": "ipython",
        "version": 3
      },
      "file_extension": ".py",
      "mimetype": "text/x-python",
      "name": "python",
      "nbconvert_exporter": "python",
      "pygments_lexer": "ipython3",
      "version": "3.12.6"
    }
  },
  "nbformat": 4,
  "nbformat_minor": 5
}
