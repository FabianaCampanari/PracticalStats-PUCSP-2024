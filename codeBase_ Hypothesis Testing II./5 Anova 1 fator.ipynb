{
 "cells": [
  {
   "cell_type": "code",
   "execution_count": null,
   "id": "ea0baa45",
   "metadata": {},
   "outputs": [],
   "source": [
    "# importa biblioteca pandas\n",
    "import pandas as pd\n",
    "\n",
    "# importa biblioteca statsmodels\n",
    "import statsmodels.api as sm\n",
    "\n",
    "# local do arquivo\n",
    "Caminho='/IFM/cadastro_funcionarios.xlsx'\n"
   ]
  },
  {
   "cell_type": "code",
   "execution_count": null,
   "id": "c8c3caad",
   "metadata": {},
   "outputs": [],
   "source": [
    "#Traz o arquivo para o Python\n",
    "df=pd.read_excel(Caminho)\n"
   ]
  },
  {
   "cell_type": "code",
   "execution_count": null,
   "id": "89e26cd3",
   "metadata": {},
   "outputs": [],
   "source": [
    "df.head( ) \n"
   ]
  },
  {
   "cell_type": "code",
   "execution_count": null,
   "id": "ba9e7b19",
   "metadata": {},
   "outputs": [],
   "source": [
    "#Verifica a média de idade por grupo\n",
    "df.groupby(['grau_instrucao'])['idade'].describe()\n"
   ]
  },
  {
   "cell_type": "code",
   "execution_count": null,
   "id": "afa1c981",
   "metadata": {},
   "outputs": [],
   "source": [
    "#Gera o modelo para comparar idade por grau de instrução\n",
    "from statsmodels.formula.api import ols\n",
    "modelo=ols('idade ~ grau_instrucao',data=df).fit()\n"
   ]
  },
  {
   "cell_type": "code",
   "execution_count": null,
   "id": "747d1d8c",
   "metadata": {},
   "outputs": [],
   "source": [
    "#Aplicação ANOVA Testando H0: μf= μm=μs   H1: Ao menos um diferente\n",
    "anova=sm.stats.anova_lm(modelo)\n",
    "print(anova)\n"
   ]
  },
  {
   "cell_type": "code",
   "execution_count": null,
   "id": "d885fba7",
   "metadata": {},
   "outputs": [],
   "source": [
    "#Teste Post Hoc de Tukey para avaliar diferenças\n",
    "from statsmodels.stats.multicomp import pairwise_tukeyhsd\n",
    "tukey=pairwise_tukeyhsd(endog=df.idade, groups=df.grau_instrucao)\n",
    "tukey.summary ( )\n"
   ]
  },
  {
   "cell_type": "code",
   "execution_count": null,
   "id": "06b24bcb",
   "metadata": {},
   "outputs": [],
   "source": [
    "#Gera o modelo para comparar idade por grau de instrução\n",
    "from statsmodels.formula.api import ols\n",
    "modelo=ols('idade ~ reg_proc',data=df).fit()\n",
    "#Aplicação ANOVA Testando H0: μf= μm=μs   H1: Ao menos um diferente\n",
    "anova=sm.stats.anova_lm(modelo)\n",
    "print(anova)"
   ]
  },
  {
   "cell_type": "code",
   "execution_count": null,
   "id": "0b5dd64d",
   "metadata": {},
   "outputs": [],
   "source": [
    "#Verifica a média de idade por grupo\n",
    "df.groupby(['reg_proc'])['idade'].describe()\n"
   ]
  },
  {
   "cell_type": "code",
   "execution_count": null,
   "id": "4be8d489",
   "metadata": {},
   "outputs": [],
   "source": [
    "#Teste Post Hoc de Tukey para avaliar diferenças\n",
    "from statsmodels.stats.multicomp import pairwise_tukeyhsd\n",
    "tukey=pairwise_tukeyhsd(endog=df.idade, groups=df.reg_proc)\n",
    "tukey.summary ( )"
   ]
  },
  {
   "cell_type": "code",
   "execution_count": null,
   "id": "9cd4a2b8",
   "metadata": {},
   "outputs": [],
   "source": []
  }
 ],
 "metadata": {
  "kernelspec": {
   "display_name": "Python 3 (ipykernel)",
   "language": "python",
   "name": "python3"
  },
  "language_info": {
   "codemirror_mode": {
    "name": "ipython",
    "version": 3
   },
   "file_extension": ".py",
   "mimetype": "text/x-python",
   "name": "python",
   "nbconvert_exporter": "python",
   "pygments_lexer": "ipython3",
   "version": "3.8.18"
  }
 },
 "nbformat": 4,
 "nbformat_minor": 5
}
