{
 "cells": [
  {
   "cell_type": "code",
   "execution_count": null,
   "id": "ea0baa45",
   "metadata": {},
   "outputs": [],
   "source": [
    "# importa biblioteca pandas\n",
    "import pandas as pd\n",
    "\n",
    "# importa biblioteca statsmodels\n",
    "import statsmodels.api as sm\n",
    "\n",
    "# local do arquivo\n",
    "Caminho='/IFM/cadastro_funcionarios.xlsx'\n"
   ]
  },
  {
   "cell_type": "code",
   "execution_count": null,
   "id": "c8c3caad",
   "metadata": {},
   "outputs": [],
   "source": [
    "#Traz o arquivo para o Python\n",
    "df=pd.read_excel(Caminho)\n"
   ]
  },
  {
   "cell_type": "code",
   "execution_count": null,
   "id": "89e26cd3",
   "metadata": {},
   "outputs": [],
   "source": [
    "df.head( ) \n"
   ]
  },
  {
   "cell_type": "code",
   "execution_count": null,
   "id": "ba9e7b19",
   "metadata": {},
   "outputs": [],
   "source": [
    "#Verifica a média de idade por grau de instrução\n",
    "df.groupby(['grau_instrucao'])['idade'].describe()\n",
    "\n",
    "\n"
   ]
  },
  {
   "cell_type": "code",
   "execution_count": null,
   "id": "9cd4a2b8",
   "metadata": {},
   "outputs": [],
   "source": [
    "#Verifica a média de idade por estado_civil\n",
    "df.groupby(['estado_civil'])['idade'].describe()"
   ]
  },
  {
   "cell_type": "code",
   "execution_count": null,
   "id": "d7c1455b",
   "metadata": {},
   "outputs": [],
   "source": [
    "#Gera o modelo para comparar idade por grau de instrução e região\n",
    "from statsmodels.formula.api import ols\n",
    "modelo=ols('idade ~ grau_instrucao + estado_civil ',data=df).fit()\n"
   ]
  },
  {
   "cell_type": "code",
   "execution_count": null,
   "id": "0221936b",
   "metadata": {},
   "outputs": [],
   "source": [
    "#Aplicação ANOVA Testando H0: μf= μm=μs   H1: Ao menos um diferente \n",
    "#H0: μc= μs   H1: Ao menos um diferente\n",
    "\n",
    "anova=sm.stats.anova_lm(modelo)\n",
    "print(anova)\n"
   ]
  },
  {
   "cell_type": "code",
   "execution_count": null,
   "id": "5b8f24e5",
   "metadata": {},
   "outputs": [],
   "source": [
    "#Teste Post Hoc de Tukey para avaliar diferenças no estado civil\n",
    "from statsmodels.stats.multicomp import pairwise_tukeyhsd\n",
    "tukey=pairwise_tukeyhsd(endog=df.idade, groups=df.estado_civil)\n",
    "tukey.summary ( )\n"
   ]
  },
  {
   "cell_type": "code",
   "execution_count": null,
   "id": "d219a36c",
   "metadata": {},
   "outputs": [],
   "source": [
    "\n",
    "#Teste Post Hoc de Tukey para avaliar diferenças no grau de instrução\n",
    "from statsmodels.stats.multicomp import pairwise_tukeyhsd\n",
    "tukey=pairwise_tukeyhsd(endog=df.idade, groups=df.grau_instrucao)\n",
    "tukey.summary ( )\n",
    "\n"
   ]
  }
 ],
 "metadata": {
  "kernelspec": {
   "display_name": "Python 3 (ipykernel)",
   "language": "python",
   "name": "python3"
  },
  "language_info": {
   "codemirror_mode": {
    "name": "ipython",
    "version": 3
   },
   "file_extension": ".py",
   "mimetype": "text/x-python",
   "name": "python",
   "nbconvert_exporter": "python",
   "pygments_lexer": "ipython3",
   "version": "3.8.18"
  }
 },
 "nbformat": 4,
 "nbformat_minor": 5
}
