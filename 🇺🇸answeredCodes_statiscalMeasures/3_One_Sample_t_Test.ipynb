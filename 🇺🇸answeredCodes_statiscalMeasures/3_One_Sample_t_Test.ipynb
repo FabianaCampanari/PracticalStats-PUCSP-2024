{
  "cells": [
    {
      "cell_type": "markdown",
      "id": "554e9b0d",
      "metadata": {},
      "source": [
        "# Exercise 3 – Test the hypothesis that the salary is equal to 12. What is your conclusion?\n"
      ]
    },
    {
      "cell_type": "markdown",
      "id": "c1b8fa5a",
      "metadata": {},
      "source": [
        "\n",
        "\n",
        "### Complete Code:\n"
      ]
    },
    {
      "cell_type": "code",
      "execution_count": 22,
      "id": "ff6fb94c",
      "metadata": {},
      "outputs": [
        {
          "name": "stdout",
          "output_type": "stream",
          "text": [
            "t-test statistic: -4.500727991746298\n",
            "p-value: 8.755117588192511e-06\n",
            "We reject the null hypothesis (H0).\n",
            "We reject the null hypothesis (H0) with the provided p-value.\n"
          ]
        }
      ],
      "source": [
        "import pandas as pd\n",
        "import scipy.stats as stats\n",
        "\n",
        "# File location\n",
        "Caminho = '/Users/fabicampanari/Desktop/_8-Prova Matematematica/1-statiscalMeasures_ Hypothesis Testing II./Dataset/cadastro_funcionarios.xlsx'\n",
        "\n",
        "# Load the data\n",
        "df = pd.read_excel(Caminho)\n",
        "\n",
        "# Select the variable of interest (salary)\n",
        "salarios = df['salario']\n",
        "\n",
        "# Perform the t-test Testing H0: salary = 12 and H1: salary ≠ 12\n",
        "resultado_teste = stats.ttest_1samp(salarios, 12)\n",
        "\n",
        "# Get the p-value from the test result\n",
        "p_value = resultado_teste.pvalue\n",
        "\n",
        "# Define the significance level\n",
        "alpha = 0.05\n",
        "\n",
        "# Interpret the result\n",
        "if p_value < alpha:\n",
        "    conclusao = \"We reject the null hypothesis (H0).\"\n",
        "else:\n",
        "    conclusao = \"We do not reject the null hypothesis (H0).\"\n",
        "\n",
        "# Display the test result and conclusion\n",
        "print(f\"t-test statistic: {resultado_teste.statistic}\")\n",
        "print(f\"p-value: {p_value}\")\n",
        "print(conclusao)\n",
        "\n",
        "# Provided example adapted to the salary question\n",
        "# Perform the t-test Testing H0: salary = 12 and H1: salary ≠ 12\n",
        "resultado_teste_exemplo = stats.ttest_1samp(salarios, 12)\n",
        "# FOR 95% CONFIDENCE REJECT H0 IF PVALUE < 0.05\n",
        "p_value_exemplo = resultado_teste_exemplo.pvalue\n",
        "alpha = 0.05\n",
        "\n",
        "if p_value_exemplo < alpha:\n",
        "    print(\"We reject the null hypothesis (H0) with the provided p-value.\")\n",
        "else:\n",
        "    print(\"We do not reject the null hypothesis (H0) with the provided p-value.\")"
      ]
    },
    {
      "cell_type": "markdown",
      "id": "50067580",
      "metadata": {},
      "source": [
        "\n",
        "\n",
        "### Explanation:\n",
        "- **Importing libraries**: [`pandas`](command:_github.copilot.openSymbolFromReferences?%5B%22%22%2C%5B%7B%22uri%22%3A%7B%22scheme%22%3A%22vscode-notebook-cell%22%2C%22authority%22%3A%22%22%2C%22path%22%3A%22%2FUsers%2Ffabicampanari%2FDesktop%2F_8-Prova%20Matematematica%2F1-statiscalMeasures_%20Hypothesis%20Testing%20II.%2F%F0%9F%87%BA%F0%9F%87%B8codeBas_english_%20Hypothesis%20Testing%20II.%2F1.%20Medidas%20Estat%C3%ADsticas.ipynb%22%2C%22query%22%3A%22%22%2C%22fragment%22%3A%22W0sZmlsZQ%3D%3D%22%7D%2C%22pos%22%3A%7B%22line%22%3A1%2C%22character%22%3A7%7D%7D%5D%2C%22828aeec9-90db-42dc-9b3d-a0db0830e046%22%5D \"Go to definition\") for data manipulation and `scipy.stats` to perform the t-test.\n",
        "- **Loading the data**: Reading the Excel file that contains the employee data.\n",
        "- **Selecting the variable of interest**: Extracting the salary column.\n",
        "- **Performing the t-test**: Testing the null hypothesis that the mean salary is equal to 12.\n",
        "- **Getting the p-value**: Extracting the p-value from the test result.\n",
        "- **Interpreting the result**: Comparing the p-value with the significance level (alpha = 0.05) to decide whether to reject the null hypothesis.\n",
        "- **Displaying the results**: Printing the t-test statistic, the p-value, and the conclusion.\n",
        "- **Provided example adapted**: Including the provided p-value and the corresponding interpretation.\n",
        "\n",
        "### Conclusion:\n",
        "- **We reject the null hypothesis (H0)** if the p-value is less than the significance level (alpha = 0.05). This means there is statistically significant evidence to conclude that the mean salary is different from 12.\n",
        "- **We do not reject the null hypothesis (H0)** if the p-value is greater than or equal to the significance level. This means there is not enough evidence to conclude that the mean salary is different from 12.\n",
        "\n",
        "Run the code above to get the specific conclusion based on your data and to see the interpretation of the provided p-value."
      ]
    }
  ],
  "metadata": {
    "colab": {
      "provenance": []
    },
    "kernelspec": {
      "display_name": "myenv",
      "language": "python",
      "name": "python3"
    },
    "language_info": {
      "codemirror_mode": {
        "name": "ipython",
        "version": 3
      },
      "file_extension": ".py",
      "mimetype": "text/x-python",
      "name": "python",
      "nbconvert_exporter": "python",
      "pygments_lexer": "ipython3",
      "version": "3.12.6"
    }
  },
  "nbformat": 4,
  "nbformat_minor": 5
}
